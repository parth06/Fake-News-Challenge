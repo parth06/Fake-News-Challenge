{
  "nbformat": 4,
  "nbformat_minor": 0,
  "metadata": {
    "colab": {
      "name": "3step_Classification.ipynb",
      "version": "0.3.2",
      "provenance": [],
      "collapsed_sections": [],
      "machine_shape": "hm",
      "include_colab_link": true
    },
    "kernelspec": {
      "name": "python3",
      "display_name": "Python 3"
    },
    "accelerator": "GPU"
  },
  "cells": [
    {
      "cell_type": "markdown",
      "metadata": {
        "id": "view-in-github",
        "colab_type": "text"
      },
      "source": [
        "<a href=\"https://colab.research.google.com/github/parth06/Fake-News-Challenge/blob/master/3step_Classification.ipynb\" target=\"_parent\"><img src=\"https://colab.research.google.com/assets/colab-badge.svg\" alt=\"Open In Colab\"/></a>"
      ]
    },
    {
      "cell_type": "code",
      "metadata": {
        "id": "HDxPwj8Y6v3v",
        "colab_type": "code",
        "outputId": "16753f4d-ed51-445b-fd59-c77564e5e938",
        "colab": {
          "base_uri": "https://localhost:8080/",
          "height": 136
        }
      },
      "source": [
        "!git clone https://github.com/parth06/Fake-News-Challenge.git"
      ],
      "execution_count": 1,
      "outputs": [
        {
          "output_type": "stream",
          "text": [
            "Cloning into 'Fake-News-Challenge'...\n",
            "remote: Enumerating objects: 240, done.\u001b[K\n",
            "remote: Counting objects: 100% (240/240), done.\u001b[K\n",
            "remote: Compressing objects: 100% (158/158), done.\u001b[K\n",
            "remote: Total 240 (delta 121), reused 147 (delta 70), pack-reused 0\u001b[K\n",
            "Receiving objects: 100% (240/240), 4.38 MiB | 16.73 MiB/s, done.\n",
            "Resolving deltas: 100% (121/121), done.\n"
          ],
          "name": "stdout"
        }
      ]
    },
    {
      "cell_type": "code",
      "metadata": {
        "id": "vcp1ZPke6wvo",
        "colab_type": "code",
        "outputId": "c9dc64b9-6ff3-4b8a-e98c-1405b77ab870",
        "colab": {
          "base_uri": "https://localhost:8080/",
          "height": 34
        }
      },
      "source": [
        "cd Fake-News-Challenge/"
      ],
      "execution_count": 2,
      "outputs": [
        {
          "output_type": "stream",
          "text": [
            "/content/Fake-News-Challenge\n"
          ],
          "name": "stdout"
        }
      ]
    },
    {
      "cell_type": "code",
      "metadata": {
        "id": "UHIayrMBbHnQ",
        "colab_type": "code",
        "colab": {
          "base_uri": "https://localhost:8080/",
          "height": 68
        },
        "outputId": "597fa273-9d6a-440e-b24c-b1fffd45b69a"
      },
      "source": [
        "!git submodule init\n",
        "!git submodule update"
      ],
      "execution_count": 3,
      "outputs": [
        {
          "output_type": "stream",
          "text": [
            "Submodule 'fnc-1' (https://github.com/FakeNewsChallenge/fnc-1) registered for path 'fnc-1'\n",
            "Cloning into '/content/Fake-News-Challenge/fnc-1'...\n",
            "Submodule path 'fnc-1': checked out '29d473af2d15278f0464d5e41e4cbe7eb58231f2'\n"
          ],
          "name": "stdout"
        }
      ]
    },
    {
      "cell_type": "code",
      "metadata": {
        "id": "Oyycp9Pt6yHJ",
        "colab_type": "code",
        "colab": {}
      },
      "source": [
        "import nltk"
      ],
      "execution_count": 0,
      "outputs": []
    },
    {
      "cell_type": "code",
      "metadata": {
        "id": "5Sp20FEr6zbL",
        "colab_type": "code",
        "outputId": "7f1c826a-307f-4953-a8ca-e892a8f36d54",
        "colab": {
          "base_uri": "https://localhost:8080/",
          "height": 102
        }
      },
      "source": [
        "nltk.download('punkt')\n",
        "nltk.download('wordnet')"
      ],
      "execution_count": 5,
      "outputs": [
        {
          "output_type": "stream",
          "text": [
            "[nltk_data] Downloading package punkt to /root/nltk_data...\n",
            "[nltk_data]   Unzipping tokenizers/punkt.zip.\n",
            "[nltk_data] Downloading package wordnet to /root/nltk_data...\n",
            "[nltk_data]   Unzipping corpora/wordnet.zip.\n"
          ],
          "name": "stdout"
        },
        {
          "output_type": "execute_result",
          "data": {
            "text/plain": [
              "True"
            ]
          },
          "metadata": {
            "tags": []
          },
          "execution_count": 5
        }
      ]
    },
    {
      "cell_type": "code",
      "metadata": {
        "id": "LQNn7UrM60pA",
        "colab_type": "code",
        "colab": {}
      },
      "source": [
        "import numpy as np\n",
        "import pandas as pd\n",
        "\n",
        "from sklearn.model_selection import train_test_split\n",
        "from scipy.spatial.distance import cosine,correlation\n",
        "\n",
        "from feature_engineering import clean,get_tokenized_lemmas\n",
        "from feature_engineering import word_overlap_features,refuting_features\n",
        "from feature_engineering import polarity_features, hand_features, gen_or_load_feats \n",
        "from utils.generate_test_splits import kfold_split, get_stances_for_folds\n",
        "from utils.score import report_score, LABELS, score_submission\n",
        "from utils.system import parse_params, check_version\n",
        "\n",
        "import tensorflow as tf\n",
        "import tensorflow_hub as hub\n"
      ],
      "execution_count": 0,
      "outputs": []
    },
    {
      "cell_type": "code",
      "metadata": {
        "id": "mmVsvhhSSpiG",
        "colab_type": "code",
        "outputId": "b5d5de7f-0cda-4e51-fbf8-4fd1e651609a",
        "colab": {
          "base_uri": "https://localhost:8080/",
          "height": 119
        }
      },
      "source": [
        "!python3 generate_data.py"
      ],
      "execution_count": 7,
      "outputs": [
        {
          "output_type": "stream",
          "text": [
            "Reading dataset\n",
            "Total stances: 49972\n",
            "Total bodies: 1683\n",
            "Reading dataset\n",
            "Total stances: 25413\n",
            "Total bodies: 904\n"
          ],
          "name": "stdout"
        }
      ]
    },
    {
      "cell_type": "code",
      "metadata": {
        "id": "PA8DDChVXEN4",
        "colab_type": "code",
        "colab": {}
      },
      "source": [
        "train = pd.read_csv(\"data/train.csv\")\n",
        "test = pd.read_csv(\"data/test.csv\") "
      ],
      "execution_count": 0,
      "outputs": []
    },
    {
      "cell_type": "code",
      "metadata": {
        "id": "cRsshmjB7sRz",
        "colab_type": "code",
        "colab": {}
      },
      "source": [
        "def clean_data(sent):\n",
        "  sent = list(sent)\n",
        "  data = list()\n",
        "  for i in range(len(sent)):\n",
        "    clean_sent = clean(sent[i])\n",
        "    clean_sent = get_tokenized_lemmas(clean_sent)\n",
        "    data.append(' '.join(clean_sent))\n",
        "  return data\n",
        "\n",
        "train[\"Headline\"] = clean_data(train[\"Headline\"])\n",
        "train[\"Body\"] = clean_data(train[\"Body\"])\n",
        "\n",
        "test[\"Headline\"] = clean_data(test[\"Headline\"])\n",
        "test[\"Body\"] = clean_data(test[\"Body\"])"
      ],
      "execution_count": 0,
      "outputs": []
    },
    {
      "cell_type": "code",
      "metadata": {
        "id": "P0EuWjjUe0r9",
        "colab_type": "code",
        "colab": {}
      },
      "source": [
        "Xtrain, Xval, Ytrain, Yval = train_test_split(\n",
        "    train[[\"Headline\",\"Body\",\"Relatedness\",\"Discussion\",\"AgreeNotagree\"]],\n",
        "    train[\"Stance\"],test_size=0.1,stratify=train[\"Stance\"],random_state=0)"
      ],
      "execution_count": 0,
      "outputs": []
    },
    {
      "cell_type": "code",
      "metadata": {
        "id": "UYKPeDA4XUO3",
        "colab_type": "code",
        "outputId": "ca510b35-565b-4af6-f55d-a69b36ba56cc",
        "colab": {
          "base_uri": "https://localhost:8080/",
          "height": 221
        }
      },
      "source": [
        "related_df = Xtrain.drop(['Discussion','AgreeNotagree'],axis=1)\n",
        "print(related_df.shape)\n",
        "print(related_df[\"Relatedness\"].value_counts())\n",
        "\n",
        "discuss_df = Xtrain[Xtrain[\"Discussion\"].notnull()].drop(['Relatedness','AgreeNotagree'],axis=1)\n",
        "print(discuss_df.shape)\n",
        "print(discuss_df[\"Discussion\"].value_counts())\n",
        "\n",
        "aga_df = Xtrain[Xtrain[\"AgreeNotagree\"].notnull()].drop(['Relatedness','Discussion'],axis=1)\n",
        "print(aga_df.shape)\n",
        "print(aga_df[\"AgreeNotagree\"].value_counts())"
      ],
      "execution_count": 11,
      "outputs": [
        {
          "output_type": "stream",
          "text": [
            "(44974, 3)\n",
            "unrelated    32890\n",
            "related      12084\n",
            "Name: Relatedness, dtype: int64\n",
            "(12084, 3)\n",
            "discuss    8018\n",
            "ANA        4066\n",
            "Name: Discussion, dtype: int64\n",
            "(4066, 3)\n",
            "agree       3310\n",
            "disagree     756\n",
            "Name: AgreeNotagree, dtype: int64\n"
          ],
          "name": "stdout"
        }
      ]
    },
    {
      "cell_type": "code",
      "metadata": {
        "id": "opJY5u00ZUsi",
        "colab_type": "code",
        "colab": {}
      },
      "source": [
        "# !mkdir data/fasttext\n",
        "\n",
        "# !wget https://dl.fbaipublicfiles.com/fasttext/vectors-english/wiki-news-300d-1M.vec.zip\n",
        "\n",
        "# !unzip wiki-news-300d-1M.vec.zip -d data/fasttext\n"
      ],
      "execution_count": 0,
      "outputs": []
    },
    {
      "cell_type": "code",
      "metadata": {
        "id": "BRyhJezSRhQ1",
        "colab_type": "code",
        "colab": {}
      },
      "source": [
        "# !mkdir data/glove_twitter\n",
        "# !wget http://nlp.stanford.edu/data/glove.twitter.27B.zip\n",
        "# !unzip glove.twitter.27B.zip -d data/glove_twitter/\n",
        "\n",
        "# glove_input_file = './data/glove_twitter/glove.twitter.27B.50d.txt'"
      ],
      "execution_count": 0,
      "outputs": []
    },
    {
      "cell_type": "code",
      "metadata": {
        "id": "QnIZr1LSY3l_",
        "colab_type": "code",
        "colab": {}
      },
      "source": [
        "# from gensim.test.utils import datapath, get_tmpfile\n",
        "# from gensim.models import KeyedVectors\n",
        "# from gensim.scripts.glove2word2vec import glove2word2vec\n",
        "\n",
        "# # tmp_file = get_tmpfile(\"test_word2vec.txt\")\n",
        "# # _ = glove2word2vec(glove_input_file, tmp_file)\n",
        "\n",
        "# model = KeyedVectors.load_word2vec_format(tmp_file)\n",
        "# # #Creating the model\n",
        "# # model = KeyedVectors.load_word2vec_format('data/fasttext/wiki-news-300d-1M.vec')"
      ],
      "execution_count": 0,
      "outputs": []
    },
    {
      "cell_type": "code",
      "metadata": {
        "id": "vzHkEfdW8SNN",
        "colab_type": "code",
        "colab": {}
      },
      "source": [
        "# from nltk import word_tokenize\n",
        "# head_tokens = list()\n",
        "# body_tokens = list()\n",
        "# for i in range(len(train[\"Headline\"])):\n",
        "#   head_tokens.extend(word_tokenize(train[\"Headline\"][i]))\n",
        "#   body_tokens.extend(word_tokenize(train[\"Body\"][i]))\n",
        "\n",
        "# vocab = sorted(set(head_tokens+body_tokens))"
      ],
      "execution_count": 0,
      "outputs": []
    },
    {
      "cell_type": "code",
      "metadata": {
        "id": "GJH-yGAHmCGj",
        "colab_type": "code",
        "colab": {}
      },
      "source": [
        "# EMBEDDING_DIM=100\n",
        "# embeddings_matrix = np.random.uniform(-0.05, 0.05, size=(len(vocab)+1, EMBEDDING_DIM)) # +1 is because the matrix indices start with 0\n",
        "# for i in range(len(vocab)): # i=0 is the embedding for the zero padding\n",
        "#   try:\n",
        "#       embeddings_vector = model[vocab[i]]\n",
        "#   except KeyError:\n",
        "#       embeddings_vector = None\n",
        "#   if embeddings_vector is not None:\n",
        "#       embeddings_matrix[i] = embeddings_vector\n",
        "\n",
        "# del model\n",
        "  "
      ],
      "execution_count": 0,
      "outputs": []
    },
    {
      "cell_type": "code",
      "metadata": {
        "id": "1q97gVIeC8Tp",
        "colab_type": "code",
        "colab": {}
      },
      "source": [
        "# #Glove and Fasttext\n",
        "\n",
        "# def get_embeddings(sent):\n",
        "#   emb = list()\n",
        "  \n",
        "#   for i in range(len(sent)):\n",
        "#     sent_emb = list()\n",
        "#     for j in range(len(sent[i])):\n",
        "#       try:\n",
        "#         embeddings_vector = model[sent[i][j]]\n",
        "#       except KeyError:\n",
        "#           embeddings_vector = None\n",
        "#       if embeddings_vector is not None:\n",
        "#           sent_emb.append(np.array(embeddings_vector))\n",
        "#     if sent_emb == []:\n",
        "#       emb.append([0]*100)\n",
        "#     else:\n",
        "#       emb.append(list(np.mean(np.array(sent_emb),axis=0)))\n",
        "\n",
        "#   return emb"
      ],
      "execution_count": 0,
      "outputs": []
    },
    {
      "cell_type": "code",
      "metadata": {
        "id": "hT9gtYCeD8zQ",
        "colab_type": "code",
        "colab": {}
      },
      "source": [
        "def get_embeddings(sent):\n",
        "  #https://tfhub.dev/google/nnlm-en-dim128/1\n",
        "  embed = hub.Module(\"https://tfhub.dev/google/nnlm-en-dim128/1\")\n",
        "  \n",
        "  tf.logging.set_verbosity(tf.logging.ERROR)\n",
        "  messages = list()\n",
        "  for i in range(len(sent)):\n",
        "    clean_sent = clean(sent[i])\n",
        "    clean_sent = get_tokenized_lemmas(clean_sent)\n",
        "    messages.append(' '.join(clean_sent))\n",
        "  emb = list()\n",
        "  \n",
        "  with tf.Session() as session:\n",
        "    session.run([tf.global_variables_initializer(), tf.tables_initializer()])\n",
        "    message_embeddings = session.run(embed(messages))\n",
        "\n",
        "    for j, message_embedding in enumerate(np.array(message_embeddings).tolist()):\n",
        "      emb.append(message_embedding)\n",
        "  \n",
        "  return emb\n",
        "\n"
      ],
      "execution_count": 0,
      "outputs": []
    },
    {
      "cell_type": "code",
      "metadata": {
        "id": "IR0YeqyJIyla",
        "colab_type": "code",
        "colab": {}
      },
      "source": [
        "def generate_features(h,b,name):\n",
        "    h,b = list(h),list(b)\n",
        "    X_overlap = gen_or_load_feats(word_overlap_features, h, b, \"features/overlap.\"+name+\".npy\")\n",
        "    X_refuting = gen_or_load_feats(refuting_features, h, b, \"features/refuting.\"+name+\".npy\")\n",
        "    X_polarity = gen_or_load_feats(polarity_features, h, b, \"features/polarity.\"+name+\".npy\")\n",
        "    X_hand = gen_or_load_feats(hand_features, h, b, \"features/hand.\"+name+\".npy\")\n",
        "    X_head_embedding = get_embeddings(h)\n",
        "    X_body_embedding = get_embeddings(b)\n",
        "    X_co = list()\n",
        "    for i in range(len(h)):\n",
        "      X_co.append(cosine(X_head_embedding[i],X_body_embedding[i]))\n",
        "    X = np.c_[X_hand, X_polarity, X_refuting, X_overlap, X_head_embedding, X_body_embedding, X_co]\n",
        "    \n",
        "    return X"
      ],
      "execution_count": 0,
      "outputs": []
    },
    {
      "cell_type": "code",
      "metadata": {
        "id": "sklV4Ki1gUCT",
        "colab_type": "code",
        "colab": {}
      },
      "source": [
        "import xgboost as xgb\n",
        "\n",
        "def classifier(trainX, trainY):\n",
        "\n",
        "    X_train, X_val, y_train, y_val = train_test_split(trainX, trainY, test_size=0.10, random_state=7, stratify=trainY)\n",
        "    xg_train = xgb.DMatrix(X_train, label=y_train)\n",
        "    xg_val = xgb.DMatrix(X_val, label=y_val)\n",
        "    evals = [(xg_train,'train'),(xg_val, 'validation')]\n",
        "\n",
        "#     xg_train = xgb.DMatrix(trainX, label = trainY)\n",
        "    \n",
        "    # setup parameters for xgboost\n",
        "    param = {}\n",
        "    # use softmax multi-class classification\n",
        "    param['objective'] = 'binary:logistic'\n",
        "    # scale weight of positive examples\n",
        "    param['eta'] = 0.1\n",
        "    param['max_depth'] = 6\n",
        "    param['verbosity'] = 1\n",
        "    param['nthread'] = 20\n",
        "\n",
        "    num_round = 300\n",
        "    clf = xgb.train(param, xg_train, num_round, evals = evals, verbose_eval=50);\n",
        "#     cv = xgb.cv(param, xg_train,  num_round, nfold = 10,stratified=True, verbose_eval=100)\n",
        "\n",
        "    return clf"
      ],
      "execution_count": 0,
      "outputs": []
    },
    {
      "cell_type": "code",
      "metadata": {
        "id": "CWthiNXrIyiE",
        "colab_type": "code",
        "outputId": "63f9a209-0b9f-42e6-9b54-de7affee1c5f",
        "colab": {
          "base_uri": "https://localhost:8080/",
          "height": 85
        }
      },
      "source": [
        "relatedTrainX = generate_features(related_df[\"Headline\"],related_df[\"Body\"],\"related\")\n",
        "relatedTrainY = [int(stance == 'unrelated') for stance in related_df[\"Relatedness\"]]\n"
      ],
      "execution_count": 20,
      "outputs": [
        {
          "output_type": "stream",
          "text": [
            "44974it [03:52, 193.82it/s]\n",
            "44974it [00:11, 3768.84it/s]\n",
            "44974it [03:44, 199.94it/s]\n",
            "44974it [02:50, 263.29it/s]\n"
          ],
          "name": "stderr"
        }
      ]
    },
    {
      "cell_type": "code",
      "metadata": {
        "id": "pz9AdO3brsPw",
        "colab_type": "code",
        "outputId": "6661ae42-fa13-423a-e032-6e477fa5ee62",
        "colab": {
          "base_uri": "https://localhost:8080/",
          "height": 136
        }
      },
      "source": [
        "relatedness_classifier = classifier(relatedTrainX, relatedTrainY)"
      ],
      "execution_count": 21,
      "outputs": [
        {
          "output_type": "stream",
          "text": [
            "[0]\ttrain-error:0.046966\tvalidation-error:0.052912\n",
            "[50]\ttrain-error:0.01344\tvalidation-error:0.023788\n",
            "[100]\ttrain-error:0.002248\tvalidation-error:0.013117\n",
            "[150]\ttrain-error:0.000124\tvalidation-error:0.010227\n",
            "[200]\ttrain-error:0\tvalidation-error:0.009337\n",
            "[250]\ttrain-error:0\tvalidation-error:0.008893\n",
            "[299]\ttrain-error:0\tvalidation-error:0.009115\n"
          ],
          "name": "stdout"
        }
      ]
    },
    {
      "cell_type": "code",
      "metadata": {
        "id": "KxE-Ye_ZIye7",
        "colab_type": "code",
        "outputId": "2ae86288-96f2-41e5-d011-5ab323b42e9a",
        "colab": {
          "base_uri": "https://localhost:8080/",
          "height": 85
        }
      },
      "source": [
        "discTrainX =  generate_features(discuss_df[\"Headline\"],discuss_df[\"Body\"],\"discuss\")\n",
        "discTrainY = [int(stance == 'discuss') for stance in discuss_df[\"Discussion\"]]\n"
      ],
      "execution_count": 22,
      "outputs": [
        {
          "output_type": "stream",
          "text": [
            "12084it [01:02, 193.06it/s]\n",
            "12084it [00:03, 3839.53it/s]\n",
            "12084it [01:10, 171.20it/s]\n",
            "12084it [00:47, 252.15it/s]\n"
          ],
          "name": "stderr"
        }
      ]
    },
    {
      "cell_type": "code",
      "metadata": {
        "id": "42dhwlV1WeQW",
        "colab_type": "code",
        "outputId": "ce3f1dc1-d870-48a7-980d-87c94eb7807f",
        "colab": {
          "base_uri": "https://localhost:8080/",
          "height": 136
        }
      },
      "source": [
        "disussion_classifier =   classifier(discTrainX, discTrainY)"
      ],
      "execution_count": 23,
      "outputs": [
        {
          "output_type": "stream",
          "text": [
            "[0]\ttrain-error:0.173701\tvalidation-error:0.187758\n",
            "[50]\ttrain-error:0.027402\tvalidation-error:0.075269\n",
            "[100]\ttrain-error:0.006345\tvalidation-error:0.043838\n",
            "[150]\ttrain-error:0.001655\tvalidation-error:0.028122\n",
            "[200]\ttrain-error:0.000276\tvalidation-error:0.019024\n",
            "[250]\ttrain-error:0.000184\tvalidation-error:0.01737\n",
            "[299]\ttrain-error:0.000184\tvalidation-error:0.01737\n"
          ],
          "name": "stdout"
        }
      ]
    },
    {
      "cell_type": "code",
      "metadata": {
        "id": "vRTT-MrS7lYe",
        "colab_type": "code",
        "outputId": "f250aeda-0885-411d-d83c-677d52d75073",
        "colab": {
          "base_uri": "https://localhost:8080/",
          "height": 85
        }
      },
      "source": [
        "agaTrainX = generate_features(aga_df[\"Headline\"],aga_df[\"Body\"],\"aga\")\n",
        "agaTrainY = [int(stance == 'agree') for stance in aga_df[\"AgreeNotagree\"]]"
      ],
      "execution_count": 24,
      "outputs": [
        {
          "output_type": "stream",
          "text": [
            "4066it [00:20, 200.42it/s]\n",
            "4066it [00:01, 3621.87it/s]\n",
            "4066it [00:20, 199.21it/s]\n",
            "4066it [00:14, 277.20it/s]\n"
          ],
          "name": "stderr"
        }
      ]
    },
    {
      "cell_type": "code",
      "metadata": {
        "id": "9oFb3hUr1RG9",
        "colab_type": "code",
        "outputId": "2a5211d7-bd64-4d55-9a3c-630ae5f89e68",
        "colab": {
          "base_uri": "https://localhost:8080/",
          "height": 136
        }
      },
      "source": [
        "aga_classifier =  classifier(agaTrainX, agaTrainY)\n"
      ],
      "execution_count": 25,
      "outputs": [
        {
          "output_type": "stream",
          "text": [
            "[0]\ttrain-error:0.097841\tvalidation-error:0.142506\n",
            "[50]\ttrain-error:0.005739\tvalidation-error:0.088452\n",
            "[100]\ttrain-error:0\tvalidation-error:0.063882\n",
            "[150]\ttrain-error:0\tvalidation-error:0.068796\n",
            "[200]\ttrain-error:0\tvalidation-error:0.066339\n",
            "[250]\ttrain-error:0\tvalidation-error:0.058968\n",
            "[299]\ttrain-error:0\tvalidation-error:0.061425\n"
          ],
          "name": "stdout"
        }
      ]
    },
    {
      "cell_type": "code",
      "metadata": {
        "id": "NDL34X6s3gn8",
        "colab_type": "code",
        "colab": {}
      },
      "source": [
        "# Uncomment to view the classifier tree\n",
        "# from xgboost import plot_tree\n",
        "# import matplotlib.pyplot as plt\n",
        "\n",
        "# plot_tree(disussion_classifier,num_trees=1)\n",
        "# fig = plt.gcf()\n",
        "# fig.set_size_inches(180.5, 100.5)\n",
        "# plt.show()"
      ],
      "execution_count": 0,
      "outputs": []
    },
    {
      "cell_type": "code",
      "metadata": {
        "id": "K8uTSTUBB9yt",
        "colab_type": "code",
        "colab": {}
      },
      "source": [
        "# Confusion Matrix Function\n",
        "# https://gist.github.com/hitvoice/36cf44689065ca9b927431546381a3f7\n",
        "from sklearn.metrics import confusion_matrix\n",
        "import seaborn as sns\n",
        "import matplotlib.pyplot as plt\n",
        "#cm = confusion_matrix()\n",
        "\n",
        "def cm_analysis(y_true, y_pred, labels, ymap=None, figsize=(10,10)):\n",
        "    \"\"\"\n",
        "    Generate matrix plot of confusion matrix with pretty annotations.\n",
        "    The plot image is saved to disk.\n",
        "    args: \n",
        "      y_true:    true label of the data, with shape (nsamples,)\n",
        "      y_pred:    prediction of the data, with shape (nsamples,)\n",
        "      filename:  filename of figure file to save\n",
        "      labels:    string array, name the order of class labels in the confusion matrix.\n",
        "                 use `clf.classes_` if using scikit-learn models.\n",
        "                 with shape (nclass,).\n",
        "      ymap:      dict: any -> string, length == nclass.\n",
        "                 if not None, map the labels & ys to more understandable strings.\n",
        "                 Caution: original y_true, y_pred and labels must align.\n",
        "      figsize:   the size of the figure plotted.\n",
        "    \"\"\"\n",
        "    if ymap is not None:\n",
        "        y_pred = [ymap[yi] for yi in y_pred]\n",
        "        y_true = [ymap[yi] for yi in y_true]\n",
        "        labels = [ymap[yi] for yi in labels]\n",
        "    cm = confusion_matrix(y_true, y_pred, labels=labels)\n",
        "    cm_sum = np.sum(cm, axis=1, keepdims=True)\n",
        "    cm_perc = cm / cm_sum.astype(float) * 100\n",
        "    annot = np.empty_like(cm).astype(str)\n",
        "    nrows, ncols = cm.shape\n",
        "    for i in range(nrows):\n",
        "        for j in range(ncols):\n",
        "            c = cm[i, j]\n",
        "            p = cm_perc[i, j]\n",
        "            if i == j:\n",
        "                s = cm_sum[i]\n",
        "                annot[i, j] = '%.1f%%\\n%d/%d' % (p, c, s)\n",
        "            elif c == 0:\n",
        "                annot[i, j] = ''\n",
        "            else:\n",
        "                annot[i, j] = '%.1f%%\\n%d' % (p, c)\n",
        "    cm = pd.DataFrame(cm_perc, index=labels, columns=labels)\n",
        "    cm.index.name = 'Actual'\n",
        "    cm.columns.name = 'Predicted'\n",
        "    fig, ax = plt.subplots(figsize=figsize)\n",
        "    sns.heatmap(cm, annot=annot, fmt='', ax=ax,cmap = sns.cm.rocket_r)\n",
        "    #plt.savefig(filename)\n",
        "    plt.show()\n",
        "\n"
      ],
      "execution_count": 0,
      "outputs": []
    },
    {
      "cell_type": "code",
      "metadata": {
        "id": "0r2SqrCeAjOW",
        "colab_type": "code",
        "outputId": "290d73cc-7204-4e25-de78-367347d72623",
        "colab": {
          "base_uri": "https://localhost:8080/",
          "height": 85
        }
      },
      "source": [
        "xf_val = generate_features(Xval[\"Headline\"],Xval[\"Body\"],\"validation\")\n",
        "xg_val = xgb.DMatrix(xf_val)\n"
      ],
      "execution_count": 28,
      "outputs": [
        {
          "output_type": "stream",
          "text": [
            "4998it [00:26, 191.59it/s]\n",
            "4998it [00:01, 3385.20it/s]\n",
            "4998it [00:25, 197.52it/s]\n",
            "4998it [00:18, 267.03it/s]\n"
          ],
          "name": "stderr"
        }
      ]
    },
    {
      "cell_type": "code",
      "metadata": {
        "id": "na6SuvP8zBRd",
        "colab_type": "code",
        "outputId": "4cb90438-6de6-483e-8ca7-273a22054456",
        "colab": {
          "base_uri": "https://localhost:8080/",
          "height": 609
        }
      },
      "source": [
        "relatedness_pred = relatedness_classifier.predict(xg_val);\n",
        "discussion_pred = disussion_classifier.predict(xg_val)\n",
        "aga_pred = aga_classifier.predict(xg_val)\n",
        "\n",
        "ret, scores = [], []\n",
        "for (pred_relate, pred_discuss, pred_agree) in zip(relatedness_pred, discussion_pred, aga_pred):\n",
        "    scores.append((pred_relate, pred_discuss, pred_agree))\n",
        "    if pred_relate >= 0.9:\n",
        "        ret.append('unrelated')\n",
        "    elif pred_discuss >= 0.5:\n",
        "        ret.append('discuss')\n",
        "    elif pred_agree >= 0.5:\n",
        "        ret.append('agree')\n",
        "    else:\n",
        "        ret.append('disagree')\n",
        "        \n",
        "cm_analysis(Yval,ret, [\"agree\",\"disagree\",\"discuss\",\"unrelated\"])\n"
      ],
      "execution_count": 29,
      "outputs": [
        {
          "output_type": "display_data",
          "data": {
            "image/png": "[encoded data removed]",
            "text/plain": [
              "<Figure size 720x720 with 2 Axes>"
            ]
          },
          "metadata": {
            "tags": []
          }
        }
      ]
    },
    {
      "cell_type": "code",
      "metadata": {
        "id": "qkq8zvWXqJLE",
        "colab_type": "code",
        "outputId": "987eb651-421b-499e-b7c1-aa6f9f5399b2",
        "colab": {
          "base_uri": "https://localhost:8080/",
          "height": 85
        }
      },
      "source": [
        "confusion_matrix(Yval,ret)"
      ],
      "execution_count": 30,
      "outputs": [
        {
          "output_type": "execute_result",
          "data": {
            "text/plain": [
              "array([[ 345,    7,   12,    4],\n",
              "       [  17,   63,    3,    1],\n",
              "       [  15,    0,  872,    4],\n",
              "       [  14,    0,   52, 3589]])"
            ]
          },
          "metadata": {
            "tags": []
          },
          "execution_count": 30
        }
      ]
    },
    {
      "cell_type": "code",
      "metadata": {
        "id": "NEjpGydrmz-k",
        "colab_type": "code",
        "outputId": "e067ed5d-3662-4e19-80ab-6818a4deead6",
        "colab": {
          "base_uri": "https://localhost:8080/",
          "height": 238
        }
      },
      "source": [
        "report_score(Yval,ret)"
      ],
      "execution_count": 31,
      "outputs": [
        {
          "output_type": "stream",
          "text": [
            "-------------------------------------------------------------\n",
            "|           |   agree   | disagree  |  discuss  | unrelated |\n",
            "-------------------------------------------------------------\n",
            "|   agree   |    345    |     7     |    12     |     4     |\n",
            "-------------------------------------------------------------\n",
            "| disagree  |    17     |    63     |     3     |     1     |\n",
            "-------------------------------------------------------------\n",
            "|  discuss  |    15     |     0     |    872    |     4     |\n",
            "-------------------------------------------------------------\n",
            "| unrelated |    14     |     0     |    52     |   3589    |\n",
            "-------------------------------------------------------------\n",
            "Score: 2190.75 out of 2256.75\t(97.07544034562977%)\n"
          ],
          "name": "stdout"
        },
        {
          "output_type": "execute_result",
          "data": {
            "text/plain": [
              "97.07544034562977"
            ]
          },
          "metadata": {
            "tags": []
          },
          "execution_count": 31
        }
      ]
    },
    {
      "cell_type": "code",
      "metadata": {
        "id": "YiWrZosWhzb9",
        "colab_type": "code",
        "outputId": "c0a5b3e1-95ee-487d-b5cc-10b217c7f892",
        "colab": {
          "base_uri": "https://localhost:8080/",
          "height": 85
        }
      },
      "source": [
        "testX = generate_features(test[\"Headline\"],test[\"Body\"],\"test\")"
      ],
      "execution_count": 32,
      "outputs": [
        {
          "output_type": "stream",
          "text": [
            "25413it [02:04, 204.56it/s]\n",
            "25413it [00:06, 3660.62it/s]\n",
            "25413it [01:54, 222.14it/s]\n",
            "25413it [01:29, 284.97it/s]\n"
          ],
          "name": "stderr"
        }
      ]
    },
    {
      "cell_type": "code",
      "metadata": {
        "id": "eJfcb210hboZ",
        "colab_type": "code",
        "colab": {}
      },
      "source": [
        "xg_test = xgb.DMatrix(testX)\n",
        "relatedness_pred = relatedness_classifier.predict(xg_test);\n",
        "discussion_pred = disussion_classifier.predict(xg_test)\n",
        "aga_pred = aga_classifier.predict(xg_test)\n"
      ],
      "execution_count": 0,
      "outputs": []
    },
    {
      "cell_type": "code",
      "metadata": {
        "id": "1MNfU5aIhbxQ",
        "colab_type": "code",
        "colab": {}
      },
      "source": [
        "ret, scores = [], []\n",
        "for (pred_relate, pred_discuss, pred_agree) in zip(relatedness_pred, discussion_pred, aga_pred):\n",
        "    scores.append((pred_relate, pred_discuss, pred_agree))\n",
        "    if pred_relate >= 0.9:\n",
        "        ret.append('unrelated')\n",
        "    elif pred_discuss >= 0.5:\n",
        "        ret.append('discuss')\n",
        "    elif pred_agree >= 0.5:\n",
        "        ret.append('agree')\n",
        "    else:\n",
        "        ret.append('disagree')"
      ],
      "execution_count": 0,
      "outputs": []
    },
    {
      "cell_type": "code",
      "metadata": {
        "id": "HEXGS8ouCdob",
        "colab_type": "code",
        "outputId": "6b2b74f9-2e5c-4ba4-995e-b7921f62004a",
        "colab": {
          "base_uri": "https://localhost:8080/",
          "height": 609
        }
      },
      "source": [
        "cm_analysis(list(test[\"Stance\"]),ret, [\"agree\",\"disagree\",\"discuss\",\"unrelated\"])"
      ],
      "execution_count": 35,
      "outputs": [
        {
          "output_type": "display_data",
          "data": {
            "image/png": "[encoded data removed]",
            "text/plain": [
              "<Figure size 720x720 with 2 Axes>"
            ]
          },
          "metadata": {
            "tags": []
          }
        }
      ]
    },
    {
      "cell_type": "code",
      "metadata": {
        "id": "SqLqaKp8uPPL",
        "colab_type": "code",
        "outputId": "fcbfad34-c7d9-49e4-8e07-bfbbe056990b",
        "colab": {
          "base_uri": "https://localhost:8080/",
          "height": 238
        }
      },
      "source": [
        "report_score(list(test[\"Stance\"]),ret)"
      ],
      "execution_count": 36,
      "outputs": [
        {
          "output_type": "stream",
          "text": [
            "-------------------------------------------------------------\n",
            "|           |   agree   | disagree  |  discuss  | unrelated |\n",
            "-------------------------------------------------------------\n",
            "|   agree   |   1068    |     2     |    713    |    120    |\n",
            "-------------------------------------------------------------\n",
            "| disagree  |    230    |     9     |    318    |    140    |\n",
            "-------------------------------------------------------------\n",
            "|  discuss  |    891    |     5     |   3273    |    295    |\n",
            "-------------------------------------------------------------\n",
            "| unrelated |    157    |     4     |    498    |   17690   |\n",
            "-------------------------------------------------------------\n",
            "Score: 9312.25 out of 11651.25\t(79.92490076172085%)\n"
          ],
          "name": "stdout"
        },
        {
          "output_type": "execute_result",
          "data": {
            "text/plain": [
              "79.92490076172085"
            ]
          },
          "metadata": {
            "tags": []
          },
          "execution_count": 36
        }
      ]
    },
    {
      "cell_type": "code",
      "metadata": {
        "id": "yREzG3WKqdcM",
        "colab_type": "code",
        "outputId": "15661a4f-65b2-46a3-f19c-ebefaffe585f",
        "colab": {
          "base_uri": "https://localhost:8080/",
          "height": 85
        }
      },
      "source": [
        "confusion_matrix(list(test[\"Stance\"]),ret)"
      ],
      "execution_count": 37,
      "outputs": [
        {
          "output_type": "execute_result",
          "data": {
            "text/plain": [
              "array([[ 1068,     2,   713,   120],\n",
              "       [  230,     9,   318,   140],\n",
              "       [  891,     5,  3273,   295],\n",
              "       [  157,     4,   498, 17690]])"
            ]
          },
          "metadata": {
            "tags": []
          },
          "execution_count": 37
        }
      ]
    },
    {
      "cell_type": "code",
      "metadata": {
        "id": "ffJ0kv8Muw-c",
        "colab_type": "code",
        "colab": {}
      },
      "source": [
        "submit = pd.read_csv(\"fnc-1/test_stances_unlabeled.csv\")"
      ],
      "execution_count": 0,
      "outputs": []
    },
    {
      "cell_type": "code",
      "metadata": {
        "id": "ISAdWj86VYM_",
        "colab_type": "code",
        "outputId": "818c2ba2-5623-4c3c-beca-af5ce634b0e8",
        "colab": {
          "base_uri": "https://localhost:8080/",
          "height": 204
        }
      },
      "source": [
        "submit[\"Stance\"] = ret\n",
        "submit.head()"
      ],
      "execution_count": 39,
      "outputs": [
        {
          "output_type": "execute_result",
          "data": {
            "text/html": [
              "<div>\n",
              "<style scoped>\n",
              "    .dataframe tbody tr th:only-of-type {\n",
              "        vertical-align: middle;\n",
              "    }\n",
              "\n",
              "    .dataframe tbody tr th {\n",
              "        vertical-align: top;\n",
              "    }\n",
              "\n",
              "    .dataframe thead th {\n",
              "        text-align: right;\n",
              "    }\n",
              "</style>\n",
              "<table border=\"1\" class=\"dataframe\">\n",
              "  <thead>\n",
              "    <tr style=\"text-align: right;\">\n",
              "      <th></th>\n",
              "      <th>Headline</th>\n",
              "      <th>Body ID</th>\n",
              "      <th>Stance</th>\n",
              "    </tr>\n",
              "  </thead>\n",
              "  <tbody>\n",
              "    <tr>\n",
              "      <th>0</th>\n",
              "      <td>Ferguson riots: Pregnant woman loses eye after...</td>\n",
              "      <td>2008</td>\n",
              "      <td>unrelated</td>\n",
              "    </tr>\n",
              "    <tr>\n",
              "      <th>1</th>\n",
              "      <td>Crazy Conservatives Are Sure a Gitmo Detainee ...</td>\n",
              "      <td>1550</td>\n",
              "      <td>unrelated</td>\n",
              "    </tr>\n",
              "    <tr>\n",
              "      <th>2</th>\n",
              "      <td>A Russian Guy Says His Justin Bieber Ringtone ...</td>\n",
              "      <td>2</td>\n",
              "      <td>unrelated</td>\n",
              "    </tr>\n",
              "    <tr>\n",
              "      <th>3</th>\n",
              "      <td>Zombie Cat: Buried Kitty Believed Dead, Meows ...</td>\n",
              "      <td>1793</td>\n",
              "      <td>unrelated</td>\n",
              "    </tr>\n",
              "    <tr>\n",
              "      <th>4</th>\n",
              "      <td>Argentina's President Adopts Boy to End Werewo...</td>\n",
              "      <td>37</td>\n",
              "      <td>unrelated</td>\n",
              "    </tr>\n",
              "  </tbody>\n",
              "</table>\n",
              "</div>"
            ],
            "text/plain": [
              "                                            Headline  Body ID     Stance\n",
              "0  Ferguson riots: Pregnant woman loses eye after...     2008  unrelated\n",
              "1  Crazy Conservatives Are Sure a Gitmo Detainee ...     1550  unrelated\n",
              "2  A Russian Guy Says His Justin Bieber Ringtone ...        2  unrelated\n",
              "3  Zombie Cat: Buried Kitty Believed Dead, Meows ...     1793  unrelated\n",
              "4  Argentina's President Adopts Boy to End Werewo...       37  unrelated"
            ]
          },
          "metadata": {
            "tags": []
          },
          "execution_count": 39
        }
      ]
    },
    {
      "cell_type": "code",
      "metadata": {
        "id": "eg48vQZoFLJM",
        "colab_type": "code",
        "colab": {}
      },
      "source": [
        "submit.to_csv(\"submission.csv\",index=False)"
      ],
      "execution_count": 0,
      "outputs": []
    }
  ]
}